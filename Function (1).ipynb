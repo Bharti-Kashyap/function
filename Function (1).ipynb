{
  "nbformat": 4,
  "nbformat_minor": 0,
  "metadata": {
    "colab": {
      "provenance": []
    },
    "kernelspec": {
      "name": "python3",
      "display_name": "Python 3"
    },
    "language_info": {
      "name": "python"
    }
  },
  "cells": [
    {
      "cell_type": "code",
      "execution_count": null,
      "metadata": {
        "id": "d5tB5nlQj1v3"
      },
      "outputs": [],
      "source": [
        "# function"
      ]
    },
    {
      "cell_type": "markdown",
      "source": [
        "1. What is the difference between a function and a method in Python?\n",
        "ans Functions are reusable pieces of code that perform a specific task.They allow us to break our code into smaller, manageable chunks.\n",
        "   Functions can take inputs (arguments) and return outputs (results).\n",
        "\n",
        "2. Explain the concept of function arguments and parameters in Python.\n",
        "ans Parameters: Variables listed inside the function definition.\n",
        "  Arguments: Actual values passed to the function when calling it.\n",
        "\n",
        "3. What are the different ways to define and call a function in Python?\n",
        "ans A function is defined using the def keyword.\n",
        " Functions can be call by two ways: Call by Value or Call by Reference.\n",
        "   These two ways are generally differentiated by the type of values passed to them as parameters    \n",
        "\n",
        "4. What is the purpose of the `return` statement in a Python function?\n",
        "ans The return statement is used in a function to send back a value to the caller.\n",
        "It terminates the function and returns the specified result.\n",
        "\n",
        "5. What are iterators in Python and how do they differ from iterables?\n",
        "ans An iterable is any object in Python that can be looped over (e.g., using a for loop).\n",
        "  It contains an internal method called __iter__(), which returns an iterator eg: (Lists, Tuples, Strings).\n",
        "\n",
        "  An iterator is an object that produces values one at a time and remembers its state between iterations.\n",
        "  It has two key methods: iter(),next().\n",
        "\n",
        "6. Explain the concept of generators in Python and how they are defined.\n",
        "ans A generator in Python is a special type of iterator that generates values\n",
        "  on the fly instead of storing them in memory. It is used for memory-efficient looping.\n",
        "  Generators are created using a function with the yield keyword instead of return.\n",
        "  Each time yield is called, the function’s state is paused and resumed when next() is called.\n",
        "\n",
        "7. What are the advantages of using generators over regular functions?\n",
        "ans Memory efficiency: Generator functions only evaluate the code that is needed, which can make them more memory efficient than regular functions.\n",
        "Lazy loading: Generator functions can be used to lazy load data, which means that the data is not loaded until it is actually needed.\n",
        "\n",
        "8. What is a lambda function in Python and when is it typically used?\n",
        "ans Lambda function is a small anonymous function.\n",
        "  It can take any number of arguments, but can only have one expression.\n",
        "  It is used to create small, throwaway functions.\n",
        "  Lambda function is defined using the keyword lambda.\n",
        "  Syntax:\n",
        "  lambda arguments: expression\n",
        "9. Explain the purpose and usage of the `map()` function in Python.\n",
        "ans map(function, iterables)\n",
        "map gives a list of results after applying the function to each item of the iterable\n",
        "filter(function, iterables)\n",
        "filter gives a list of items for which the function returns true\n",
        "reduce(function, iterables)\n",
        "reduce gives a single value after applying the function to each item of the iterable\n",
        "reduce() is not a built-in function in Python 3.x It is available in the functools module. from functools import reduce\n",
        "\n",
        "11. Using pen & Paper write the internal mechanism for sum operation using  reduce function on this given\n",
        "list:[47,11,42,13];\n",
        "\n",
        "from functools import reduce\n",
        "with reduce\n",
        "reduce(lambda total, num : total + num,[47,11,42,13] ) # 113\n",
        "47+11+42+13=113\n",
        "\n"
      ],
      "metadata": {
        "id": "lp3K9yUUj6ie"
      }
    },
    {
      "cell_type": "code",
      "source": [
        "# 1. Write a Python function that takes a list of numbers as input and returns the sum of all even numbers in the list.\n",
        "\n",
        "\n",
        "\n",
        "def sum_of_evens(numbers):\n",
        "    return sum(num for num in numbers if num % 2 == 0)\n",
        "\n",
        "# Example usage\n",
        "nums = [1, 2, 3, 4, 5, 6, 7, 8,9,10]\n",
        "print(sum_of_evens(nums))  # Output: 20 (2 + 4 + 6 + 8)"
      ],
      "metadata": {
        "colab": {
          "base_uri": "https://localhost:8080/"
        },
        "id": "SRBWktI2k1vT",
        "outputId": "ca2b622b-aaac-4d84-faf4-ac7ddcf99ca9"
      },
      "execution_count": 2,
      "outputs": [
        {
          "output_type": "stream",
          "name": "stdout",
          "text": [
            "30\n"
          ]
        }
      ]
    },
    {
      "cell_type": "code",
      "source": [
        "# 2. Create a Python function that accepts a string and returns the reverse of that string\n",
        "\n",
        "\n",
        "def reverse_string(s):\n",
        "    return s[::-1]  # Slicing method to reverse the string\n",
        "\n",
        "# Example usage\n",
        "text = \"String\"\n",
        "print(reverse_string(text))"
      ],
      "metadata": {
        "colab": {
          "base_uri": "https://localhost:8080/"
        },
        "id": "obem312-lGJP",
        "outputId": "1ed6d1ad-d68f-40be-a4e0-80818e2d0626"
      },
      "execution_count": 3,
      "outputs": [
        {
          "output_type": "stream",
          "name": "stdout",
          "text": [
            "gnirtS\n"
          ]
        }
      ]
    },
    {
      "cell_type": "code",
      "source": [
        "# 3. Implement a Python function that takes a list of integers and returns a new list containing the squares of each number.\n",
        "\n",
        "\n",
        "def square_numbers(numbers):\n",
        "    return [num ** 2 for num in numbers]  # List comprehension\n",
        "\n",
        "# Example usage\n",
        "nums = [11,7,5,12,5]\n",
        "print(square_numbers(nums))"
      ],
      "metadata": {
        "colab": {
          "base_uri": "https://localhost:8080/"
        },
        "id": "uTABROMdloGu",
        "outputId": "ba9731c6-5f12-49d4-afaf-59d92a7b0591"
      },
      "execution_count": 4,
      "outputs": [
        {
          "output_type": "stream",
          "name": "stdout",
          "text": [
            "[121, 49, 25, 144, 25]\n"
          ]
        }
      ]
    },
    {
      "cell_type": "code",
      "source": [
        "# 4. Write a Python function that checks if a given number is prime or not from 1 to 200.\n",
        "\n",
        "\n",
        "def is_prime(n):\n",
        "    if n < 2:\n",
        "        return False  # 0 and 1 are not prime\n",
        "    for i in range(2, int(n**0.5) + 1):  # Check divisibility up to √n\n",
        "        if n % i == 0:\n",
        "            return False\n",
        "    return True\n",
        "\n",
        "# Checking numbers from 1 to 200\n",
        "prime_numbers = [num for num in range(1, 50) if is_prime(num)]\n",
        "print(prime_numbers)  # Output: List of prime numbers from 1 to 200\n"
      ],
      "metadata": {
        "colab": {
          "base_uri": "https://localhost:8080/"
        },
        "id": "yzj0zNk1l9Dj",
        "outputId": "7aca92c1-6dd1-404f-9ef4-5a1b725c2c64"
      },
      "execution_count": 6,
      "outputs": [
        {
          "output_type": "stream",
          "name": "stdout",
          "text": [
            "[2, 3, 5, 7, 11, 13, 17, 19, 23, 29, 31, 37, 41, 43, 47]\n"
          ]
        }
      ]
    }
  ]
}